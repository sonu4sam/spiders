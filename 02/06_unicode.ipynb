{
 "cells": [
  {
   "cell_type": "code",
   "execution_count": 1,
   "metadata": {},
   "outputs": [
    {
     "data": {
      "text/plain": [
       "b'><strong>Cyrillic</strong> &nbsp; U+0400 \\xe2\\x80\\x93 U+04FF &nbsp; (1024\\xe2\\x80\\x931279)</p>\\n    <table class=\"unicode\">\\n        <tbody>\\n            <tr valign=\"top\">\\n                <td width=\"50\">&nbsp;</td>\\n                <td class=\"b\" width=\"50\">\\xd0\\x89</td>\\n                <td class=\"b\" width=\"50\">\\xd0\\xa9</td>\\n                <td class=\"b\" width=\"50\">\\xd1\\x89</td>\\n                <td class=\"b\" width=\"50\">\\xd3\\x83</td>\\n            </tr>\\n        </tbody>\\n    </table>\\n\\n '"
      ]
     },
     "execution_count": 1,
     "metadata": {},
     "output_type": "execute_result"
    }
   ],
   "source": [
    "from urllib.request import urlopen\n",
    "\n",
    "page = urlopen(\"http://localhost:8080/unicode.html\")\n",
    "content = page.read()\n",
    "\n",
    "content[840:1280]"
   ]
  },
  {
   "cell_type": "code",
   "execution_count": 2,
   "metadata": {},
   "outputs": [
    {
     "data": {
      "text/plain": [
       "'<strong>Cyrillic</strong> &nbsp; U+0400 – U+04FF &nbsp; (1024–1279)</p>\\n    <table class=\"unicode\">\\n        <tbody>\\n            <tr valign=\"top\">\\n                <td width=\"50\">&nbsp;</td>\\n                <td class=\"b\" width=\"50\">Љ</td>\\n                <td class=\"b\" width=\"50\">Щ</td>\\n                <td class=\"b\" width=\"50\">щ</td>\\n                <td class=\"b\" width=\"50\">Ӄ</td>\\n            </tr>\\n        </tbody>\\n    </table>\\n\\n   '"
      ]
     },
     "execution_count": 2,
     "metadata": {},
     "output_type": "execute_result"
    }
   ],
   "source": [
    "str(content, 'utf-8')[837:1270]"
   ]
  },
  {
   "cell_type": "markdown",
   "metadata": {},
   "source": [
    "we can exclude this from using requests"
   ]
  },
  {
   "cell_type": "code",
   "execution_count": 5,
   "metadata": {},
   "outputs": [
    {
     "data": {
      "text/plain": [
       "' <p><strong>Cyrillic</strong> &nbsp; U+0400 â\\x80\\x93 U+04FF &nbsp; (1024â\\x80\\x931279)</p>\\n    <table class=\"unicode\">\\n        <tbody>\\n            <tr valign=\"top\">\\n                <td width=\"50\">&nbsp;</td>\\n                <td class=\"b\" width=\"50\">Ð\\x89</td>\\n                <td class=\"b\" width=\"50\">Ð©</td>\\n                <td class=\"b\" width=\"50\">Ñ\\x89</td>\\n                <td class=\"b\" width=\"50\">Ó\\x83</td>\\n            </tr>\\n        </tbody>\\n    <'"
      ]
     },
     "execution_count": 5,
     "metadata": {},
     "output_type": "execute_result"
    }
   ],
   "source": [
    "import requests\n",
    "response = requests.get(\"http://localhost:8080/unicode.html\").text\n",
    "\n",
    "response[837:1270]"
   ]
  },
  {
   "cell_type": "code",
   "execution_count": null,
   "metadata": {},
   "outputs": [],
   "source": []
  }
 ],
 "metadata": {
  "kernelspec": {
   "display_name": "env",
   "language": "python",
   "name": "python3"
  },
  "language_info": {
   "codemirror_mode": {
    "name": "ipython",
    "version": 3
   },
   "file_extension": ".py",
   "mimetype": "text/x-python",
   "name": "python",
   "nbconvert_exporter": "python",
   "pygments_lexer": "ipython3",
   "version": "3.11.4"
  },
  "orig_nbformat": 4
 },
 "nbformat": 4,
 "nbformat_minor": 2
}
