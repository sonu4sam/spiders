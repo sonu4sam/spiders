{
 "cells": [
  {
   "cell_type": "code",
   "execution_count": 2,
   "metadata": {},
   "outputs": [],
   "source": [
    "import requests\n",
    "from bs4 import BeautifulSoup\n",
    "\n",
    "html = requests.get(\"http://localhost:8080/planets.html\").text\n",
    "\n",
    "soup = BeautifulSoup(html, 'lxml')\n"
   ]
  },
  {
   "cell_type": "markdown",
   "metadata": {},
   "source": [
    "* point to notice that it creates a perfect dom element with the highararchy which we can accees with successive dots"
   ]
  },
  {
   "cell_type": "code",
   "execution_count": 3,
   "metadata": {},
   "outputs": [
    {
     "data": {
      "text/plain": [
       "<html>\n",
       "<head>\n",
       "</head>\n",
       "<body>\n",
       "<div id=\"planets\">\n",
       "<h1>Planetary data</h1>\n",
       "<div id=\"content\">Here are some interesting facts about the planets in our solar system</div>\n",
       "<p></p>\n",
       "<table border=\"1\" id=\"planetsTable\">\n",
       "<tr id=\"planetHeader\">\n",
       "<th>\n",
       "</th>\n",
       "<th>\n",
       "                    Name\n",
       "                </th>\n",
       "<th>\n",
       "                    Mass (10^24kg)\n",
       "                </th>\n",
       "<th>\n",
       "                    Diameter (km)\n",
       "                </th>\n",
       "<th>\n",
       "                    How it got its Name\n",
       "                </th>\n",
       "<th>\n",
       "                    More Info\n",
       "                </th>\n",
       "</tr>\n",
       "<tr class=\"planet\" id=\"planet1\" name=\"Mercury\">\n",
       "<td>\n",
       "<img src=\"img/mercury-150x150.png\"/>\n",
       "</td>\n",
       "<td>\n",
       "                    Mercury\n",
       "                </td>\n",
       "<td>\n",
       "                    0.330\n",
       "                </td>\n",
       "<td>\n",
       "                    4879\n",
       "                </td>\n",
       "<td>Named Mercurius by the Romans because it appears to move so swiftly.</td>\n",
       "<td>\n",
       "<a href=\"https://en.wikipedia.org/wiki/Mercury_(planet)\">Wikipedia</a>\n",
       "</td>\n",
       "</tr>\n",
       "<tr class=\"planet\" id=\"planet2\" name=\"Venus\">\n",
       "<td>\n",
       "<img src=\"img/venus-150x150.png\"/>\n",
       "</td>\n",
       "<td>\n",
       "                    Venus\n",
       "                </td>\n",
       "<td>\n",
       "                    4.87\n",
       "                </td>\n",
       "<td>\n",
       "                    12104\n",
       "                </td>\n",
       "<td>\n",
       "                    Roman name for the goddess of love. This planet was considered to be the brightest and most beautiful planet or star in the heavens. Other civilizations have named it for their god or goddess of love/war.\n",
       "                </td>\n",
       "<td>\n",
       "<a href=\"https://en.wikipedia.org/wiki/Venus\">Wikipedia</a>\n",
       "</td>\n",
       "</tr>\n",
       "<tr class=\"planet\" id=\"planet3\" name=\"Earth\">\n",
       "<td>\n",
       "<img src=\"img/earth-150x150.png\"/>\n",
       "</td>\n",
       "<td>\n",
       "                    Earth\n",
       "                </td>\n",
       "<td>\n",
       "                    5.97\n",
       "                </td>\n",
       "<td>\n",
       "                    12756\n",
       "                </td>\n",
       "<td>\n",
       "                    The name Earth comes from the Indo-European base 'er,'which produced the Germanic noun 'ertho,' and ultimately German 'erde,' Dutch 'aarde,' Scandinavian 'jord,' and English 'earth.' Related forms include Greek 'eraze,' meaning 'on the ground,' and Welsh 'erw,' meaning 'a piece of land.'\n",
       "                </td>\n",
       "<td>\n",
       "<a href=\"https://en.wikipedia.org/wiki/Earth\">Wikipedia</a>\n",
       "</td>\n",
       "</tr>\n",
       "<tr class=\"planet\" id=\"planet4\" name=\"Mars\">\n",
       "<td>\n",
       "<img src=\"img/mars-150x150.png\"/>\n",
       "</td>\n",
       "<td>\n",
       "                    Mars\n",
       "                </td>\n",
       "<td>\n",
       "                    0.642\n",
       "                </td>\n",
       "<td>\n",
       "                    6792\n",
       "                </td>\n",
       "<td>\n",
       "                    Named by the Romans for their god of war because of its red, bloodlike color. Other civilizations also named this planet from this attribute; for example, the Egyptians named it \"Her Desher,\" meaning \"the red one.\"\n",
       "                </td>\n",
       "<td>\n",
       "<a href=\"https://en.wikipedia.org/wiki/Mars\">Wikipedia</a>\n",
       "</td>\n",
       "</tr>\n",
       "<tr class=\"planet\" id=\"planet5\" name=\"Jupiter\">\n",
       "<td>\n",
       "<img src=\"img/jupiter-150x150.png\"/>\n",
       "</td>\n",
       "<td>\n",
       "                    Jupiter\n",
       "                </td>\n",
       "<td>\n",
       "                    1898\n",
       "                </td>\n",
       "<td>\n",
       "                    142984\n",
       "                </td>\n",
       "<td>The largest and most massive of the planets was named Zeus by the Greeks and Jupiter by the Romans; he was the most important deity in both pantheons.</td>\n",
       "<td>\n",
       "<a href=\"https://en.wikipedia.org/wiki/Jupiter\">Wikipedia</a>\n",
       "</td>\n",
       "</tr>\n",
       "<tr class=\"planet\" id=\"planet6\" name=\"Saturn\">\n",
       "<td>\n",
       "<img src=\"img/saturn-150x150.png\"/>\n",
       "</td>\n",
       "<td>\n",
       "                    Saturn\n",
       "                </td>\n",
       "<td>\n",
       "                    568\n",
       "                </td>\n",
       "<td>\n",
       "                    120536\n",
       "                </td>\n",
       "<td>\n",
       "                    Roman name for the Greek Cronos, father of Zeus/Jupiter. Other civilizations have given different names to Saturn, which is the farthest planet from Earth that can be observed by the naked human eye. Most of its satellites were named for Titans who, according to Greek mythology, were brothers and sisters of Saturn.\n",
       "                </td>\n",
       "<td>\n",
       "<a href=\"https://en.wikipedia.org/wiki/Saturn\">Wikipedia</a>\n",
       "</td>\n",
       "</tr>\n",
       "<tr class=\"planet\" id=\"planet7\" name=\"Uranus\">\n",
       "<td>\n",
       "<img src=\"img/uranus-150x150.png\"/>\n",
       "</td>\n",
       "<td>\n",
       "                    Uranus\n",
       "                </td>\n",
       "<td>\n",
       "                    86.8\n",
       "                </td>\n",
       "<td>\n",
       "                    51118\n",
       "                </td>\n",
       "<td>\n",
       "                    Several astronomers, including Flamsteed and Le Monnier, had observed Uranus earlier but had recorded it as a fixed star. Herschel tried unsuccessfully to name his discovery \"Georgian Sidus\" after George III; the planet was named by Johann Bode in 1781 after the ancient Greek deity of the sky Uranus, the father of Kronos (Saturn) and grandfather of Zeus (Jupiter).\n",
       "                </td>\n",
       "<td>\n",
       "<a href=\"https://en.wikipedia.org/wiki/Uranus\">Wikipedia</a>\n",
       "</td>\n",
       "</tr>\n",
       "<tr class=\"planet\" id=\"planet8\" name=\"Neptune\">\n",
       "<td>\n",
       "<img src=\"img/neptune-150x150.png\"/>\n",
       "</td>\n",
       "<td>\n",
       "                    Neptune\n",
       "                </td>\n",
       "<td>\n",
       "                    102\n",
       "                </td>\n",
       "<td>\n",
       "                    49528\n",
       "                </td>\n",
       "<td>\n",
       "                    Neptune was \"predicted\" by John Couch Adams and Urbain Le Verrier who, independently, were able to account for the irregularities in the motion of Uranus by correctly predicting the orbital elements of a trans- Uranian body. Using the predicted parameters of Le Verrier (Adams never published his predictions), Johann Galle observed the planet in 1846. Galle wanted to name the planet for Le Verrier, but that was not acceptable to the international astronomical community. Instead, this planet is named for the Roman god of the sea.\n",
       "                </td>\n",
       "<td>\n",
       "<a href=\"https://en.wikipedia.org/wiki/Neptune\">Wikipedia</a>\n",
       "</td>\n",
       "</tr>\n",
       "<tr class=\"planet\" id=\"planet9\" name=\"Pluto\">\n",
       "<td>\n",
       "<img src=\"img/pluto-150x150.png\"/>\n",
       "</td>\n",
       "<td>\n",
       "                    Pluto\n",
       "                </td>\n",
       "<td>\n",
       "                    0.0146\n",
       "                </td>\n",
       "<td>\n",
       "                    2370\n",
       "                </td>\n",
       "<td>\n",
       "                    Pluto was discovered at Lowell Observatory in Flagstaff, AZ during a systematic search for a trans-Neptune planet predicted by Percival Lowell and William H. Pickering. Named after the Roman god of the underworld who was able to render himself invisible.\n",
       "                </td>\n",
       "<td>\n",
       "<a href=\"https://en.wikipedia.org/wiki/Pluto\">Wikipedia</a>\n",
       "</td>\n",
       "</tr>\n",
       "</table>\n",
       "</div>\n",
       "<div id=\"footer\">\n",
       "<table id=\"footerTable\">\n",
       "<tr id=\"footerRow\">\n",
       "<td>\n",
       "                    And this is a footer implemented with a table (purely for demonstration)\n",
       "                </td>\n",
       "</tr>\n",
       "</table>\n",
       "</div>\n",
       "</body>\n",
       "</html>"
      ]
     },
     "execution_count": 3,
     "metadata": {},
     "output_type": "execute_result"
    }
   ],
   "source": [
    "soup"
   ]
  },
  {
   "cell_type": "code",
   "execution_count": 4,
   "metadata": {},
   "outputs": [
    {
     "data": {
      "text/plain": [
       "<table border=\"1\" id=\"planetsTable\">\n",
       "<tr id=\"planetHeader\">\n",
       "<th>\n",
       "</th>\n",
       "<th>\n",
       "                    Name\n",
       "                </th>\n",
       "<th>\n",
       "                    Mass (10^24kg)\n",
       "                </th>\n",
       "<th>\n",
       "                    Diameter (km)\n",
       "                </th>\n",
       "<th>\n",
       "                    How it got its Name\n",
       "                </th>\n",
       "<th>\n",
       "                    More Info\n",
       "                </th>\n",
       "</tr>\n",
       "<tr class=\"planet\" id=\"planet1\" name=\"Mercury\">\n",
       "<td>\n",
       "<img src=\"img/mercury-150x150.png\"/>\n",
       "</td>\n",
       "<td>\n",
       "                    Mercury\n",
       "                </td>\n",
       "<td>\n",
       "                    0.330\n",
       "                </td>\n",
       "<td>\n",
       "                    4879\n",
       "                </td>\n",
       "<td>Named Mercurius by the Romans because it appears to move so swiftly.</td>\n",
       "<td>\n",
       "<a href=\"https://en.wikipedia.org/wiki/Mercury_(planet)\">Wikipedia</a>\n",
       "</td>\n",
       "</tr>\n",
       "<tr class=\"planet\" id=\"planet2\" name=\"Venus\">\n",
       "<td>\n",
       "<img src=\"img/venus-150x150.png\"/>\n",
       "</td>\n",
       "<td>\n",
       "                    Venus\n",
       "                </td>\n",
       "<td>\n",
       "                    4.87\n",
       "                </td>\n",
       "<td>\n",
       "                    12104\n",
       "                </td>\n",
       "<td>\n",
       "                    Roman name for the goddess of love. This planet was considered to be the brightest and most beautiful planet or star in the heavens. Other civilizations have named it for their god or goddess of love/war.\n",
       "                </td>\n",
       "<td>\n",
       "<a href=\"https://en.wikipedia.org/wiki/Venus\">Wikipedia</a>\n",
       "</td>\n",
       "</tr>\n",
       "<tr class=\"planet\" id=\"planet3\" name=\"Earth\">\n",
       "<td>\n",
       "<img src=\"img/earth-150x150.png\"/>\n",
       "</td>\n",
       "<td>\n",
       "                    Earth\n",
       "                </td>\n",
       "<td>\n",
       "                    5.97\n",
       "                </td>\n",
       "<td>\n",
       "                    12756\n",
       "                </td>\n",
       "<td>\n",
       "                    The name Earth comes from the Indo-European base 'er,'which produced the Germanic noun 'ertho,' and ultimately German 'erde,' Dutch 'aarde,' Scandinavian 'jord,' and English 'earth.' Related forms include Greek 'eraze,' meaning 'on the ground,' and Welsh 'erw,' meaning 'a piece of land.'\n",
       "                </td>\n",
       "<td>\n",
       "<a href=\"https://en.wikipedia.org/wiki/Earth\">Wikipedia</a>\n",
       "</td>\n",
       "</tr>\n",
       "<tr class=\"planet\" id=\"planet4\" name=\"Mars\">\n",
       "<td>\n",
       "<img src=\"img/mars-150x150.png\"/>\n",
       "</td>\n",
       "<td>\n",
       "                    Mars\n",
       "                </td>\n",
       "<td>\n",
       "                    0.642\n",
       "                </td>\n",
       "<td>\n",
       "                    6792\n",
       "                </td>\n",
       "<td>\n",
       "                    Named by the Romans for their god of war because of its red, bloodlike color. Other civilizations also named this planet from this attribute; for example, the Egyptians named it \"Her Desher,\" meaning \"the red one.\"\n",
       "                </td>\n",
       "<td>\n",
       "<a href=\"https://en.wikipedia.org/wiki/Mars\">Wikipedia</a>\n",
       "</td>\n",
       "</tr>\n",
       "<tr class=\"planet\" id=\"planet5\" name=\"Jupiter\">\n",
       "<td>\n",
       "<img src=\"img/jupiter-150x150.png\"/>\n",
       "</td>\n",
       "<td>\n",
       "                    Jupiter\n",
       "                </td>\n",
       "<td>\n",
       "                    1898\n",
       "                </td>\n",
       "<td>\n",
       "                    142984\n",
       "                </td>\n",
       "<td>The largest and most massive of the planets was named Zeus by the Greeks and Jupiter by the Romans; he was the most important deity in both pantheons.</td>\n",
       "<td>\n",
       "<a href=\"https://en.wikipedia.org/wiki/Jupiter\">Wikipedia</a>\n",
       "</td>\n",
       "</tr>\n",
       "<tr class=\"planet\" id=\"planet6\" name=\"Saturn\">\n",
       "<td>\n",
       "<img src=\"img/saturn-150x150.png\"/>\n",
       "</td>\n",
       "<td>\n",
       "                    Saturn\n",
       "                </td>\n",
       "<td>\n",
       "                    568\n",
       "                </td>\n",
       "<td>\n",
       "                    120536\n",
       "                </td>\n",
       "<td>\n",
       "                    Roman name for the Greek Cronos, father of Zeus/Jupiter. Other civilizations have given different names to Saturn, which is the farthest planet from Earth that can be observed by the naked human eye. Most of its satellites were named for Titans who, according to Greek mythology, were brothers and sisters of Saturn.\n",
       "                </td>\n",
       "<td>\n",
       "<a href=\"https://en.wikipedia.org/wiki/Saturn\">Wikipedia</a>\n",
       "</td>\n",
       "</tr>\n",
       "<tr class=\"planet\" id=\"planet7\" name=\"Uranus\">\n",
       "<td>\n",
       "<img src=\"img/uranus-150x150.png\"/>\n",
       "</td>\n",
       "<td>\n",
       "                    Uranus\n",
       "                </td>\n",
       "<td>\n",
       "                    86.8\n",
       "                </td>\n",
       "<td>\n",
       "                    51118\n",
       "                </td>\n",
       "<td>\n",
       "                    Several astronomers, including Flamsteed and Le Monnier, had observed Uranus earlier but had recorded it as a fixed star. Herschel tried unsuccessfully to name his discovery \"Georgian Sidus\" after George III; the planet was named by Johann Bode in 1781 after the ancient Greek deity of the sky Uranus, the father of Kronos (Saturn) and grandfather of Zeus (Jupiter).\n",
       "                </td>\n",
       "<td>\n",
       "<a href=\"https://en.wikipedia.org/wiki/Uranus\">Wikipedia</a>\n",
       "</td>\n",
       "</tr>\n",
       "<tr class=\"planet\" id=\"planet8\" name=\"Neptune\">\n",
       "<td>\n",
       "<img src=\"img/neptune-150x150.png\"/>\n",
       "</td>\n",
       "<td>\n",
       "                    Neptune\n",
       "                </td>\n",
       "<td>\n",
       "                    102\n",
       "                </td>\n",
       "<td>\n",
       "                    49528\n",
       "                </td>\n",
       "<td>\n",
       "                    Neptune was \"predicted\" by John Couch Adams and Urbain Le Verrier who, independently, were able to account for the irregularities in the motion of Uranus by correctly predicting the orbital elements of a trans- Uranian body. Using the predicted parameters of Le Verrier (Adams never published his predictions), Johann Galle observed the planet in 1846. Galle wanted to name the planet for Le Verrier, but that was not acceptable to the international astronomical community. Instead, this planet is named for the Roman god of the sea.\n",
       "                </td>\n",
       "<td>\n",
       "<a href=\"https://en.wikipedia.org/wiki/Neptune\">Wikipedia</a>\n",
       "</td>\n",
       "</tr>\n",
       "<tr class=\"planet\" id=\"planet9\" name=\"Pluto\">\n",
       "<td>\n",
       "<img src=\"img/pluto-150x150.png\"/>\n",
       "</td>\n",
       "<td>\n",
       "                    Pluto\n",
       "                </td>\n",
       "<td>\n",
       "                    0.0146\n",
       "                </td>\n",
       "<td>\n",
       "                    2370\n",
       "                </td>\n",
       "<td>\n",
       "                    Pluto was discovered at Lowell Observatory in Flagstaff, AZ during a systematic search for a trans-Neptune planet predicted by Percival Lowell and William H. Pickering. Named after the Roman god of the underworld who was able to render himself invisible.\n",
       "                </td>\n",
       "<td>\n",
       "<a href=\"https://en.wikipedia.org/wiki/Pluto\">Wikipedia</a>\n",
       "</td>\n",
       "</tr>\n",
       "</table>"
      ]
     },
     "execution_count": 4,
     "metadata": {},
     "output_type": "execute_result"
    }
   ],
   "source": [
    "soup.body.table"
   ]
  },
  {
   "cell_type": "code",
   "execution_count": 5,
   "metadata": {},
   "outputs": [
    {
     "data": {
      "text/plain": [
       "'<html>\\n<head>\\n</head>\\n<body>\\n<div id=\"planets\">\\n<h1>Planetary data</h1>\\n<div id=\"content\">Here are some interesting facts about the planets in our solar system</div>\\n<p></p>\\n<table border=\"1\" id=\"planetsTable\">\\n<tr id=\"planetHeader\">\\n<th>\\n</th>\\n<th>\\r\\n                    Name\\r\\n                </th>\\n<th>\\r\\n                    Mass (10^24kg)\\r\\n                </th>\\n<th>\\r\\n                    Diameter (km)\\r\\n                </th>\\n<th>\\r\\n                    How it got its Name\\r\\n                </th>\\n<th>\\r\\n                    More Info\\r\\n                </th>\\n</tr>\\n<tr class=\"planet\" id=\"planet1\" name=\"Mercury\">\\n<td>\\n<img src=\"img/mercury-150x150.png\"/>\\n</td>\\n<td>\\r\\n                    Mercury\\r\\n                </td>\\n<td>\\r\\n                    0.330\\r\\n                </td>\\n<td>\\r\\n                    4879\\r\\n                </td>\\n<td>Named Mercurius by the Romans because it appears to move so swiftly.</td>\\n<td>\\n<a href=\"https://en.wikipedia.org/wiki/Mercury_(planet)\">Wikipedia</a>\\n</td>\\n</tr>\\n<tr class=\"p'"
      ]
     },
     "execution_count": 5,
     "metadata": {},
     "output_type": "execute_result"
    }
   ],
   "source": [
    "str(soup)[:1000]"
   ]
  },
  {
   "cell_type": "code",
   "execution_count": 6,
   "metadata": {},
   "outputs": [
    {
     "data": {
      "text/plain": [
       "<tr id=\"planetHeader\">\n",
       "<th>\n",
       "</th>\n",
       "<th>\n",
       "                    Name\n",
       "                </th>\n",
       "<th>\n",
       "                    Mass (10^24kg)\n",
       "                </th>\n",
       "<th>\n",
       "                    Diameter (km)\n",
       "                </th>\n",
       "<th>\n",
       "                    How it got its Name\n",
       "                </th>\n",
       "<th>\n",
       "                    More Info\n",
       "                </th>\n",
       "</tr>"
      ]
     },
     "execution_count": 6,
     "metadata": {},
     "output_type": "execute_result"
    }
   ],
   "source": [
    "soup.html.body.table.tr"
   ]
  },
  {
   "cell_type": "markdown",
   "metadata": {},
   "source": [
    "the above method only returns one element when you want to loop through the whole table. for the whole table you will iterator keyword 'children'"
   ]
  },
  {
   "cell_type": "code",
   "execution_count": 7,
   "metadata": {},
   "outputs": [
    {
     "data": {
      "text/plain": [
       "<list_iterator at 0x21689e2c2b0>"
      ]
     },
     "execution_count": 7,
     "metadata": {},
     "output_type": "execute_result"
    }
   ],
   "source": [
    "soup.body.table.children"
   ]
  },
  {
   "cell_type": "code",
   "execution_count": 8,
   "metadata": {},
   "outputs": [
    {
     "data": {
      "text/plain": [
       "['\\n',\n",
       " '<tr id=\"planetHeader\">\\n<th>\\n</th>\\n<th>\\r\\n                    Name\\r\\n                </th>\\n<th>\\r\\n                    Mass (10^24kg)\\r\\n                </th>\\n<th>\\r\\n                    Diameter (km)\\r\\n                </th>\\n<th>\\r\\n                    How it got its Name\\r\\n                </th>\\n<th>\\r\\n                    More Info\\r\\n                </th>\\n</tr>',\n",
       " '\\n',\n",
       " '<tr class=\"planet\" id=\"planet1\" name=\"Mercury\">\\n<td>\\n<img src=\"img/mercury-150x150.png\"/>\\n</td>\\n<td>\\r\\n                    Mercury\\r\\n                </td>\\n<td>\\r\\n                    0.330\\r\\n                </td>\\n<td>\\r\\n                    4879\\r\\n                </td>\\n<td>Named Mercurius by the Romans because it appears to move so swiftly.</td>\\n<td>\\n<a href=\"https://en.wikipedia.org/wiki/Mercury_(planet)\">Wikipedia</a>\\n</td>\\n</tr>',\n",
       " '\\n',\n",
       " '<tr class=\"planet\" id=\"planet2\" name=\"Venus\">\\n<td>\\n<img src=\"img/venus-150x150.png\"/>\\n</td>\\n<td>\\r\\n                    Venus\\r\\n                </td>\\n<td>\\r\\n                    4.87\\r\\n                </td>\\n<td>\\r\\n                    12104\\r\\n                </td>\\n<td>\\r\\n                    Roman name for the goddess of love. This planet was considered to be the brightest and most beautiful planet or star in the heavens. Other civilizations have named it for their god or goddess of love/war.\\r\\n                </td>\\n<td>\\n<a href=\"https://en.wikipedia.org/wiki/Venus\">Wikipedia</a>\\n</td>\\n</tr>',\n",
       " '\\n',\n",
       " '<tr class=\"planet\" id=\"planet3\" name=\"Earth\">\\n<td>\\n<img src=\"img/earth-150x150.png\"/>\\n</td>\\n<td>\\r\\n                    Earth\\r\\n                </td>\\n<td>\\r\\n                    5.97\\r\\n                </td>\\n<td>\\r\\n                    12756\\r\\n                </td>\\n<td>\\r\\n                    The name Earth comes from the Indo-European base \\'er,\\'which produced the Germanic noun \\'ertho,\\' and ultimately German \\'erde,\\' Dutch \\'aarde,\\' Scandinavian \\'jord,\\' and English \\'earth.\\' Related forms include Greek \\'eraze,\\' meaning \\'on the ground,\\' and Welsh \\'erw,\\' meaning \\'a piece of land.\\'\\r\\n                </td>\\n<td>\\n<a href=\"https://en.wikipedia.org/wiki/Earth\">Wikipedia</a>\\n</td>\\n</tr>',\n",
       " '\\n',\n",
       " '<tr class=\"planet\" id=\"planet4\" name=\"Mars\">\\n<td>\\n<img src=\"img/mars-150x150.png\"/>\\n</td>\\n<td>\\r\\n                    Mars\\r\\n                </td>\\n<td>\\r\\n                    0.642\\r\\n                </td>\\n<td>\\r\\n                    6792\\r\\n                </td>\\n<td>\\r\\n                    Named by the Romans for their god of war because of its red, bloodlike color. Other civilizations also named this planet from this attribute; for example, the Egyptians named it \"Her Desher,\" meaning \"the red one.\"\\r\\n                </td>\\n<td>\\n<a href=\"https://en.wikipedia.org/wiki/Mars\">Wikipedia</a>\\n</td>\\n</tr>',\n",
       " '\\n',\n",
       " '<tr class=\"planet\" id=\"planet5\" name=\"Jupiter\">\\n<td>\\n<img src=\"img/jupiter-150x150.png\"/>\\n</td>\\n<td>\\r\\n                    Jupiter\\r\\n                </td>\\n<td>\\r\\n                    1898\\r\\n                </td>\\n<td>\\r\\n                    142984\\r\\n                </td>\\n<td>The largest and most massive of the planets was named Zeus by the Greeks and Jupiter by the Romans; he was the most important deity in both pantheons.</td>\\n<td>\\n<a href=\"https://en.wikipedia.org/wiki/Jupiter\">Wikipedia</a>\\n</td>\\n</tr>',\n",
       " '\\n',\n",
       " '<tr class=\"planet\" id=\"planet6\" name=\"Saturn\">\\n<td>\\n<img src=\"img/saturn-150x150.png\"/>\\n</td>\\n<td>\\r\\n                    Saturn\\r\\n                </td>\\n<td>\\r\\n                    568\\r\\n                </td>\\n<td>\\r\\n                    120536\\r\\n                </td>\\n<td>\\r\\n                    Roman name for the Greek Cronos, father of Zeus/Jupiter. Other civilizations have given different names to Saturn, which is the farthest planet from Earth that can be observed by the naked human eye. Most of its satellites were named for Titans who, according to Greek mythology, were brothers and sisters of Saturn.\\r\\n                </td>\\n<td>\\n<a href=\"https://en.wikipedia.org/wiki/Saturn\">Wikipedia</a>\\n</td>\\n</tr>',\n",
       " '\\n',\n",
       " '<tr class=\"planet\" id=\"planet7\" name=\"Uranus\">\\n<td>\\n<img src=\"img/uranus-150x150.png\"/>\\n</td>\\n<td>\\r\\n                    Uranus\\r\\n                </td>\\n<td>\\r\\n                    86.8\\r\\n                </td>\\n<td>\\r\\n                    51118\\r\\n                </td>\\n<td>\\r\\n                    Several astronomers, including Flamsteed and Le Monnier, had observed Uranus earlier but had recorded it as a fixed star. Herschel tried unsuccessfully to name his discovery \"Georgian Sidus\" after George III; the planet was named by Johann Bode in 1781 after the ancient Greek deity of the sky Uranus, the father of Kronos (Saturn) and grandfather of Zeus (Jupiter).\\r\\n                </td>\\n<td>\\n<a href=\"https://en.wikipedia.org/wiki/Uranus\">Wikipedia</a>\\n</td>\\n</tr>',\n",
       " '\\n',\n",
       " '<tr class=\"planet\" id=\"planet8\" name=\"Neptune\">\\n<td>\\n<img src=\"img/neptune-150x150.png\"/>\\n</td>\\n<td>\\r\\n                    Neptune\\r\\n                </td>\\n<td>\\r\\n                    102\\r\\n                </td>\\n<td>\\r\\n                    49528\\r\\n                </td>\\n<td>\\r\\n                    Neptune was \"predicted\" by John Couch Adams and Urbain Le Verrier who, independently, were able to account for the irregularities in the motion of Uranus by correctly predicting the orbital elements of a trans- Uranian body. Using the predicted parameters of Le Verrier (Adams never published his predictions), Johann Galle observed the planet in 1846. Galle wanted to name the planet for Le Verrier, but that was not acceptable to the international astronomical community. Instead, this planet is named for the Roman god of the sea.\\r\\n                </td>\\n<td>\\n<a href=\"https://en.wikipedia.org/wiki/Neptune\">Wikipedia</a>\\n</td>\\n</tr>',\n",
       " '\\n',\n",
       " '<tr class=\"planet\" id=\"planet9\" name=\"Pluto\">\\n<td>\\n<img src=\"img/pluto-150x150.png\"/>\\n</td>\\n<td>\\r\\n                    Pluto\\r\\n                </td>\\n<td>\\r\\n                    0.0146\\r\\n                </td>\\n<td>\\r\\n                    2370\\r\\n                </td>\\n<td>\\r\\n                    Pluto was discovered at Lowell Observatory in Flagstaff, AZ during a systematic search for a trans-Neptune planet predicted by Percival Lowell and William H. Pickering. Named after the Roman god of the underworld who was able to render himself invisible.\\r\\n                </td>\\n<td>\\n<a href=\"https://en.wikipedia.org/wiki/Pluto\">Wikipedia</a>\\n</td>\\n</tr>',\n",
       " '\\n']"
      ]
     },
     "execution_count": 8,
     "metadata": {},
     "output_type": "execute_result"
    }
   ],
   "source": [
    "[str(c) for c in soup.body.table.children]"
   ]
  },
  {
   "cell_type": "markdown",
   "metadata": {},
   "source": [
    "similarly parent"
   ]
  },
  {
   "cell_type": "code",
   "execution_count": 9,
   "metadata": {},
   "outputs": [
    {
     "data": {
      "text/plain": [
       "'<table border=\"1\" id=\"planetsTable\">\\n<tr id=\"planetHeader\">\\n<th>\\n</th>\\n<th>\\r\\n                    Name\\r\\n                </th>\\n<th>\\r\\n                    Mass (10^24kg)\\r\\n                </th>\\n<th>\\r\\n                    Diameter (km)\\r\\n                </th>\\n<th>\\r\\n                    How it got its Name\\r\\n                </th>\\n<th>\\r\\n                    More Info\\r\\n                </th>\\n</tr>\\n<tr class=\"planet\" id=\"planet1\" name=\"Mercury\">\\n<td>\\n<img src=\"img/mercury-150x150.png\"/>\\n</td>\\n<td>\\r\\n                    Mercury\\r\\n                </td>\\n<td>\\r\\n                    0.330\\r\\n                </td>\\n<td>\\r\\n                    4879\\r\\n                </td>\\n<td>Named Mercurius by the Romans because it appears to move so swiftly.</td>\\n<td>\\n<a href=\"https://en.wikipedia.org/wiki/Mercury_(planet)\">Wikipedia</a>\\n</td>\\n</tr>\\n<tr class=\"planet\" id=\"planet2\" name=\"Venus\">\\n<td>\\n<img src=\"img/venus-150x150.png\"/>\\n</td>\\n<td>\\r\\n                    Venus\\r\\n                </td>\\n<td>\\r\\n                    4.87\\r\\n                </td>\\n<td>\\r\\n                    12104\\r\\n                </td>\\n<td>\\r\\n                    Roman name for the goddess of love. This planet was considered to be the brightest and most beautiful planet or star in the heavens. Other civilizations have named it for their god or goddess of love/war.\\r\\n                </td>\\n<td>\\n<a href=\"https://en.wikipedia.org/wiki/Venus\">Wikipedia</a>\\n</td>\\n</tr>\\n<tr class=\"planet\" id=\"planet3\" name=\"Earth\">\\n<td>\\n<img src=\"img/earth-150x150.png\"/>\\n</td>\\n<td>\\r\\n                    Earth\\r\\n                </td>\\n<td>\\r\\n                    5.97\\r\\n                </td>\\n<td>\\r\\n                    12756\\r\\n                </td>\\n<td>\\r\\n                    The name Earth comes from the Indo-European base \\'er,\\'which produced the Germanic noun \\'ertho,\\' and ultimately German \\'erde,\\' Dutch \\'aarde,\\' Scandinavian \\'jord,\\' and English \\'earth.\\' Related forms include Greek \\'eraze,\\' meaning \\'on the ground,\\' and Welsh \\'erw,\\' meaning \\'a piece of land.\\'\\r\\n                </td>\\n<td>\\n<a href=\"https://en.wikipedia.org/wiki/Earth\">Wikipedia</a>\\n</td>\\n</tr>\\n<tr class=\"planet\" id=\"planet4\" name=\"Mars\">\\n<td>\\n<img src=\"img/mars-150x150.png\"/>\\n</td>\\n<td>\\r\\n                    Mars\\r\\n                </td>\\n<td>\\r\\n                    0.642\\r\\n                </td>\\n<td>\\r\\n                    6792\\r\\n                </td>\\n<td>\\r\\n                    Named by the Romans for their god of war because of its red, bloodlike color. Other civilizations also named this planet from this attribute; for example, the Egyptians named it \"Her Desher,\" meaning \"the red one.\"\\r\\n                </td>\\n<td>\\n<a href=\"https://en.wikipedia.org/wiki/Mars\">Wikipedia</a>\\n</td>\\n</tr>\\n<tr class=\"planet\" id=\"planet5\" name=\"Jupiter\">\\n<td>\\n<img src=\"img/jupiter-150x150.png\"/>\\n</td>\\n<td>\\r\\n                    Jupiter\\r\\n                </td>\\n<td>\\r\\n                    1898\\r\\n                </td>\\n<td>\\r\\n                    142984\\r\\n                </td>\\n<td>The largest and most massive of the planets was named Zeus by the Greeks and Jupiter by the Romans; he was the most important deity in both pantheons.</td>\\n<td>\\n<a href=\"https://en.wikipedia.org/wiki/Jupiter\">Wikipedia</a>\\n</td>\\n</tr>\\n<tr class=\"planet\" id=\"planet6\" name=\"Saturn\">\\n<td>\\n<img src=\"img/saturn-150x150.png\"/>\\n</td>\\n<td>\\r\\n                    Saturn\\r\\n                </td>\\n<td>\\r\\n                    568\\r\\n                </td>\\n<td>\\r\\n                    120536\\r\\n                </td>\\n<td>\\r\\n                    Roman name for the Greek Cronos, father of Zeus/Jupiter. Other civilizations have given different names to Saturn, which is the farthest planet from Earth that can be observed by the naked human eye. Most of its satellites were named for Titans who, according to Greek mythology, were brothers and sisters of Saturn.\\r\\n                </td>\\n<td>\\n<a href=\"https://en.wikipedia.org/wiki/Saturn\">Wikipedia</a>\\n</td>\\n</tr>\\n<tr class=\"planet\" id=\"planet7\" name=\"Uranus\">\\n<td>\\n<img src=\"img/uranus-150x150.png\"/>\\n</td>\\n<td>\\r\\n                    Uranus\\r\\n                </td>\\n<td>\\r\\n                    86.8\\r\\n                </td>\\n<td>\\r\\n                    51118\\r\\n                </td>\\n<td>\\r\\n                    Several astronomers, including Flamsteed and Le Monnier, had observed Uranus earlier but had recorded it as a fixed star. Herschel tried unsuccessfully to name his discovery \"Georgian Sidus\" after George III; the planet was named by Johann Bode in 1781 after the ancient Greek deity of the sky Uranus, the father of Kronos (Saturn) and grandfather of Zeus (Jupiter).\\r\\n                </td>\\n<td>\\n<a href=\"https://en.wikipedia.org/wiki/Uranus\">Wikipedia</a>\\n</td>\\n</tr>\\n<tr class=\"planet\" id=\"planet8\" name=\"Neptune\">\\n<td>\\n<img src=\"img/neptune-150x150.png\"/>\\n</td>\\n<td>\\r\\n                    Neptune\\r\\n                </td>\\n<td>\\r\\n                    102\\r\\n                </td>\\n<td>\\r\\n                    49528\\r\\n                </td>\\n<td>\\r\\n                    Neptune was \"predicted\" by John Couch Adams and Urbain Le Verrier who, independently, were able to account for the irregularities in the motion of Uranus by correctly predicting the orbital elements of a trans- Uranian body. Using the predicted parameters of Le Verrier (Adams never published his predictions), Johann Galle observed the planet in 1846. Galle wanted to name the planet for Le Verrier, but that was not acceptable to the international astronomical community. Instead, this planet is named for the Roman god of the sea.\\r\\n                </td>\\n<td>\\n<a href=\"https://en.wikipedia.org/wiki/Neptune\">Wikipedia</a>\\n</td>\\n</tr>\\n<tr class=\"planet\" id=\"planet9\" name=\"Pluto\">\\n<td>\\n<img src=\"img/pluto-150x150.png\"/>\\n</td>\\n<td>\\r\\n                    Pluto\\r\\n                </td>\\n<td>\\r\\n                    0.0146\\r\\n                </td>\\n<td>\\r\\n                    2370\\r\\n                </td>\\n<td>\\r\\n                    Pluto was discovered at Lowell Observatory in Flagstaff, AZ during a systematic search for a trans-Neptune planet predicted by Percival Lowell and William H. Pickering. Named after the Roman god of the underworld who was able to render himself invisible.\\r\\n                </td>\\n<td>\\n<a href=\"https://en.wikipedia.org/wiki/Pluto\">Wikipedia</a>\\n</td>\\n</tr>\\n</table>'"
      ]
     },
     "execution_count": 9,
     "metadata": {},
     "output_type": "execute_result"
    }
   ],
   "source": [
    "str(soup.html.body.table.tr.parent)"
   ]
  },
  {
   "cell_type": "code",
   "execution_count": 10,
   "metadata": {},
   "outputs": [
    {
     "data": {
      "text/plain": [
       "['<td>\\n<img src=\"img/mercury-150x150.png\"/>\\n</td>',\n",
       " '<td>\\r\\n                    Mercury\\r\\n               ',\n",
       " '<td>\\r\\n                    0.330\\r\\n                <',\n",
       " '<td>\\r\\n                    4879\\r\\n                </',\n",
       " '<td>Named Mercurius by the Romans because it appea',\n",
       " '<td>\\n<a href=\"https://en.wikipedia.org/wiki/Mercur',\n",
       " '<td>\\n<img src=\"img/venus-150x150.png\"/>\\n</td>',\n",
       " '<td>\\r\\n                    Venus\\r\\n                <',\n",
       " '<td>\\r\\n                    4.87\\r\\n                </',\n",
       " '<td>\\r\\n                    12104\\r\\n                <',\n",
       " '<td>\\r\\n                    Roman name for the godde',\n",
       " '<td>\\n<a href=\"https://en.wikipedia.org/wiki/Venus\"',\n",
       " '<td>\\n<img src=\"img/earth-150x150.png\"/>\\n</td>',\n",
       " '<td>\\r\\n                    Earth\\r\\n                <',\n",
       " '<td>\\r\\n                    5.97\\r\\n                </',\n",
       " '<td>\\r\\n                    12756\\r\\n                <',\n",
       " '<td>\\r\\n                    The name Earth comes fro',\n",
       " '<td>\\n<a href=\"https://en.wikipedia.org/wiki/Earth\"',\n",
       " '<td>\\n<img src=\"img/mars-150x150.png\"/>\\n</td>',\n",
       " '<td>\\r\\n                    Mars\\r\\n                </',\n",
       " '<td>\\r\\n                    0.642\\r\\n                <',\n",
       " '<td>\\r\\n                    6792\\r\\n                </',\n",
       " '<td>\\r\\n                    Named by the Romans for ',\n",
       " '<td>\\n<a href=\"https://en.wikipedia.org/wiki/Mars\">',\n",
       " '<td>\\n<img src=\"img/jupiter-150x150.png\"/>\\n</td>',\n",
       " '<td>\\r\\n                    Jupiter\\r\\n               ',\n",
       " '<td>\\r\\n                    1898\\r\\n                </',\n",
       " '<td>\\r\\n                    142984\\r\\n                ',\n",
       " '<td>The largest and most massive of the planets wa',\n",
       " '<td>\\n<a href=\"https://en.wikipedia.org/wiki/Jupite',\n",
       " '<td>\\n<img src=\"img/saturn-150x150.png\"/>\\n</td>',\n",
       " '<td>\\r\\n                    Saturn\\r\\n                ',\n",
       " '<td>\\r\\n                    568\\r\\n                </t',\n",
       " '<td>\\r\\n                    120536\\r\\n                ',\n",
       " '<td>\\r\\n                    Roman name for the Greek',\n",
       " '<td>\\n<a href=\"https://en.wikipedia.org/wiki/Saturn',\n",
       " '<td>\\n<img src=\"img/uranus-150x150.png\"/>\\n</td>',\n",
       " '<td>\\r\\n                    Uranus\\r\\n                ',\n",
       " '<td>\\r\\n                    86.8\\r\\n                </',\n",
       " '<td>\\r\\n                    51118\\r\\n                <',\n",
       " '<td>\\r\\n                    Several astronomers, inc',\n",
       " '<td>\\n<a href=\"https://en.wikipedia.org/wiki/Uranus',\n",
       " '<td>\\n<img src=\"img/neptune-150x150.png\"/>\\n</td>',\n",
       " '<td>\\r\\n                    Neptune\\r\\n               ',\n",
       " '<td>\\r\\n                    102\\r\\n                </t',\n",
       " '<td>\\r\\n                    49528\\r\\n                <',\n",
       " '<td>\\r\\n                    Neptune was \"predicted\" ',\n",
       " '<td>\\n<a href=\"https://en.wikipedia.org/wiki/Neptun',\n",
       " '<td>\\n<img src=\"img/pluto-150x150.png\"/>\\n</td>',\n",
       " '<td>\\r\\n                    Pluto\\r\\n                <',\n",
       " '<td>\\r\\n                    0.0146\\r\\n                ',\n",
       " '<td>\\r\\n                    2370\\r\\n                </',\n",
       " '<td>\\r\\n                    Pluto was discovered at ',\n",
       " '<td>\\n<a href=\"https://en.wikipedia.org/wiki/Pluto\"']"
      ]
     },
     "execution_count": 10,
     "metadata": {},
     "output_type": "execute_result"
    }
   ],
   "source": [
    "table  = soup.find(\"table\")\n",
    "rows = [str(c)[:50] for c in table.findAll(\"td\")]\n",
    "rows"
   ]
  },
  {
   "cell_type": "code",
   "execution_count": 14,
   "metadata": {},
   "outputs": [
    {
     "data": {
      "text/plain": [
       "[<Element tr at 0x2168a596b70>,\n",
       " <Element tr at 0x2168a596b20>,\n",
       " <Element tr at 0x2168a596ad0>,\n",
       " <Element tr at 0x2168a596a80>,\n",
       " <Element tr at 0x2168a596a30>,\n",
       " <Element tr at 0x2168a596c10>,\n",
       " <Element tr at 0x2168a596bc0>,\n",
       " <Element tr at 0x2168a596df0>,\n",
       " <Element tr at 0x2168a596e90>,\n",
       " <Element tr at 0x2168a596e40>,\n",
       " <Element tr at 0x2168a596cb0>]"
      ]
     },
     "execution_count": 14,
     "metadata": {},
     "output_type": "execute_result"
    }
   ],
   "source": [
    "from lxml import html\n",
    "import requests\n",
    "\n",
    "page_html = requests.get(\"http://localhost:8080/planets.html\").text\n",
    "\n",
    "# the first thing we do is to load html into the lxml tree\n",
    "tree = html.fromstring(page_html)\n",
    "\n",
    "[tr for tr in lxml_tree.xpath(\"/html/body/div/table/tr\")]"
   ]
  },
  {
   "cell_type": "code",
   "execution_count": 15,
   "metadata": {},
   "outputs": [
    {
     "data": {
      "text/plain": [
       "[b'<tr id=\"planetHeader\">&#13;\\n                <th>&#',\n",
       " b'<tr id=\"planet1\" class=\"planet\" name=\"Mercury\">&#1',\n",
       " b'<tr id=\"planet2\" class=\"planet\" name=\"Venus\">&#13;',\n",
       " b'<tr id=\"planet3\" class=\"planet\" name=\"Earth\">&#13;',\n",
       " b'<tr id=\"planet4\" class=\"planet\" name=\"Mars\">&#13;\\n',\n",
       " b'<tr id=\"planet5\" class=\"planet\" name=\"Jupiter\">&#1',\n",
       " b'<tr id=\"planet6\" class=\"planet\" name=\"Saturn\">&#13',\n",
       " b'<tr id=\"planet7\" class=\"planet\" name=\"Uranus\">&#13',\n",
       " b'<tr id=\"planet8\" class=\"planet\" name=\"Neptune\">&#1',\n",
       " b'<tr id=\"planet9\" class=\"planet\" name=\"Pluto\">&#13;',\n",
       " b'<tr id=\"footerRow\">&#13;\\n                <td>&#13;']"
      ]
     },
     "execution_count": 15,
     "metadata": {},
     "output_type": "execute_result"
    }
   ],
   "source": [
    "from lxml import etree\n",
    "\n",
    "[etree.tostring(tr)[:50] for tr in tree.xpath(\"/html/body/div/table/tr\")]"
   ]
  },
  {
   "cell_type": "markdown",
   "metadata": {},
   "source": [
    "* suppose we did not have attributes nor the header row, then we can use builtin function to skip the first row."
   ]
  },
  {
   "cell_type": "code",
   "execution_count": 21,
   "metadata": {},
   "outputs": [
    {
     "data": {
      "text/plain": [
       "[b'<tr id=\"planet1\" class=\"planet\" name=\"Mercury\">&#1',\n",
       " b'<tr id=\"planet2\" class=\"planet\" name=\"Venus\">&#13;',\n",
       " b'<tr id=\"planet3\" class=\"planet\" name=\"Earth\">&#13;',\n",
       " b'<tr id=\"planet4\" class=\"planet\" name=\"Mars\">&#13;\\n',\n",
       " b'<tr id=\"planet5\" class=\"planet\" name=\"Jupiter\">&#1',\n",
       " b'<tr id=\"planet6\" class=\"planet\" name=\"Saturn\">&#13',\n",
       " b'<tr id=\"planet7\" class=\"planet\" name=\"Uranus\">&#13',\n",
       " b'<tr id=\"planet8\" class=\"planet\" name=\"Neptune\">&#1',\n",
       " b'<tr id=\"planet9\" class=\"planet\" name=\"Pluto\">&#13;']"
      ]
     },
     "execution_count": 21,
     "metadata": {},
     "output_type": "execute_result"
    }
   ],
   "source": [
    "test_rows = [etree.tostring(tr)[:50] for tr in tree.xpath(\"//div[@id='planets']/table/tr[position() > 1]\")]\n",
    "test_rows"
   ]
  },
  {
   "cell_type": "code",
   "execution_count": 25,
   "metadata": {},
   "outputs": [
    {
     "data": {
      "text/plain": [
       "[b'<tr id=\"planet1\" class=\"planet\" name=\"Mercury\">&#1',\n",
       " b'<tr id=\"planet2\" class=\"planet\" name=\"Venus\">&#13;',\n",
       " b'<tr id=\"planet3\" class=\"planet\" name=\"Earth\">&#13;',\n",
       " b'<tr id=\"planet4\" class=\"planet\" name=\"Mars\">&#13;\\n',\n",
       " b'<tr id=\"planet5\" class=\"planet\" name=\"Jupiter\">&#1',\n",
       " b'<tr id=\"planet6\" class=\"planet\" name=\"Saturn\">&#13',\n",
       " b'<tr id=\"planet7\" class=\"planet\" name=\"Uranus\">&#13',\n",
       " b'<tr id=\"planet8\" class=\"planet\" name=\"Neptune\">&#1',\n",
       " b'<tr id=\"planet9\" class=\"planet\" name=\"Pluto\">&#13;']"
      ]
     },
     "execution_count": 25,
     "metadata": {},
     "output_type": "execute_result"
    }
   ],
   "source": [
    "selected_rows = [etree.tostring(tr)[:50] for tr in tree.xpath(\"//div[@id='planets']/table/tr[@id!='planetHeader']\")]\n",
    "selected_rows"
   ]
  },
  {
   "cell_type": "markdown",
   "metadata": {},
   "source": [
    "* Use of CSS selector and Xpath combined "
   ]
  },
  {
   "cell_type": "code",
   "execution_count": 29,
   "metadata": {},
   "outputs": [
    {
     "name": "stdout",
     "output_type": "stream",
     "text": [
      "[(<Element tr at 0x21689c69450>, ['Mercury']), (<Element tr at 0x2168a5190e0>, ['Venus']), (<Element tr at 0x2168a4deb70>, ['Earth']), (<Element tr at 0x2168a6d29e0>, ['Mars']), (<Element tr at 0x2168a6d2a80>, ['Jupiter']), (<Element tr at 0x2168a6d2ad0>, ['Saturn']), (<Element tr at 0x2168a6d2b20>, ['Uranus']), (<Element tr at 0x2168a6d2b70>, ['Neptune']), (<Element tr at 0x2168a6d2bc0>, ['Pluto'])]\n"
     ]
    }
   ],
   "source": [
    "from lxml import html\n",
    "import requests\n",
    "\n",
    "page_html = requests.get(\"http://localhost:8080/planets.html\")\n",
    "\n",
    "tree = html.fromstring(page_html.text)\n",
    "\n",
    "tr_rows = [(v, v.xpath(\"@name\")) for v in tree.cssselect('tr.planet')]\n",
    "print(tr_rows)\n"
   ]
  },
  {
   "cell_type": "code",
   "execution_count": null,
   "metadata": {},
   "outputs": [],
   "source": []
  }
 ],
 "metadata": {
  "kernelspec": {
   "display_name": "env",
   "language": "python",
   "name": "python3"
  },
  "language_info": {
   "codemirror_mode": {
    "name": "ipython",
    "version": 3
   },
   "file_extension": ".py",
   "mimetype": "text/x-python",
   "name": "python",
   "nbconvert_exporter": "python",
   "pygments_lexer": "ipython3",
   "version": "3.11.4"
  },
  "orig_nbformat": 4
 },
 "nbformat": 4,
 "nbformat_minor": 2
}
