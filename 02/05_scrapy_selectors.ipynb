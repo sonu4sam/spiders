{
 "cells": [
  {
   "cell_type": "code",
   "execution_count": 1,
   "metadata": {},
   "outputs": [],
   "source": [
    "from scrapy.selector import Selector\n",
    "import requests"
   ]
  },
  {
   "cell_type": "code",
   "execution_count": 2,
   "metadata": {},
   "outputs": [],
   "source": [
    "response = requests.get(\"https://stackoverflow.com/questions\")"
   ]
  },
  {
   "cell_type": "code",
   "execution_count": 3,
   "metadata": {},
   "outputs": [
    {
     "data": {
      "text/plain": [
       "<Selector query=None data='<html class=\"html__responsive \" lang=...'>"
      ]
     },
     "execution_count": 3,
     "metadata": {},
     "output_type": "execute_result"
    }
   ],
   "source": [
    "selector = Selector(response)\n",
    "selector"
   ]
  },
  {
   "cell_type": "code",
   "execution_count": 6,
   "metadata": {},
   "outputs": [
    {
     "data": {
      "text/plain": [
       "[<Selector query='//div[@class=\"s-post-summary--content\"]/h3' data='<h3 class=\"s-post-summary--content-ti...'>,\n",
       " <Selector query='//div[@class=\"s-post-summary--content\"]/h3' data='<h3 class=\"s-post-summary--content-ti...'>,\n",
       " <Selector query='//div[@class=\"s-post-summary--content\"]/h3' data='<h3 class=\"s-post-summary--content-ti...'>,\n",
       " <Selector query='//div[@class=\"s-post-summary--content\"]/h3' data='<h3 class=\"s-post-summary--content-ti...'>,\n",
       " <Selector query='//div[@class=\"s-post-summary--content\"]/h3' data='<h3 class=\"s-post-summary--content-ti...'>,\n",
       " <Selector query='//div[@class=\"s-post-summary--content\"]/h3' data='<h3 class=\"s-post-summary--content-ti...'>,\n",
       " <Selector query='//div[@class=\"s-post-summary--content\"]/h3' data='<h3 class=\"s-post-summary--content-ti...'>,\n",
       " <Selector query='//div[@class=\"s-post-summary--content\"]/h3' data='<h3 class=\"s-post-summary--content-ti...'>,\n",
       " <Selector query='//div[@class=\"s-post-summary--content\"]/h3' data='<h3 class=\"s-post-summary--content-ti...'>,\n",
       " <Selector query='//div[@class=\"s-post-summary--content\"]/h3' data='<h3 class=\"s-post-summary--content-ti...'>,\n",
       " <Selector query='//div[@class=\"s-post-summary--content\"]/h3' data='<h3 class=\"s-post-summary--content-ti...'>,\n",
       " <Selector query='//div[@class=\"s-post-summary--content\"]/h3' data='<h3 class=\"s-post-summary--content-ti...'>,\n",
       " <Selector query='//div[@class=\"s-post-summary--content\"]/h3' data='<h3 class=\"s-post-summary--content-ti...'>,\n",
       " <Selector query='//div[@class=\"s-post-summary--content\"]/h3' data='<h3 class=\"s-post-summary--content-ti...'>,\n",
       " <Selector query='//div[@class=\"s-post-summary--content\"]/h3' data='<h3 class=\"s-post-summary--content-ti...'>,\n",
       " <Selector query='//div[@class=\"s-post-summary--content\"]/h3' data='<h3 class=\"s-post-summary--content-ti...'>,\n",
       " <Selector query='//div[@class=\"s-post-summary--content\"]/h3' data='<h3 class=\"s-post-summary--content-ti...'>,\n",
       " <Selector query='//div[@class=\"s-post-summary--content\"]/h3' data='<h3 class=\"s-post-summary--content-ti...'>,\n",
       " <Selector query='//div[@class=\"s-post-summary--content\"]/h3' data='<h3 class=\"s-post-summary--content-ti...'>,\n",
       " <Selector query='//div[@class=\"s-post-summary--content\"]/h3' data='<h3 class=\"s-post-summary--content-ti...'>,\n",
       " <Selector query='//div[@class=\"s-post-summary--content\"]/h3' data='<h3 class=\"s-post-summary--content-ti...'>,\n",
       " <Selector query='//div[@class=\"s-post-summary--content\"]/h3' data='<h3 class=\"s-post-summary--content-ti...'>,\n",
       " <Selector query='//div[@class=\"s-post-summary--content\"]/h3' data='<h3 class=\"s-post-summary--content-ti...'>,\n",
       " <Selector query='//div[@class=\"s-post-summary--content\"]/h3' data='<h3 class=\"s-post-summary--content-ti...'>,\n",
       " <Selector query='//div[@class=\"s-post-summary--content\"]/h3' data='<h3 class=\"s-post-summary--content-ti...'>,\n",
       " <Selector query='//div[@class=\"s-post-summary--content\"]/h3' data='<h3 class=\"s-post-summary--content-ti...'>,\n",
       " <Selector query='//div[@class=\"s-post-summary--content\"]/h3' data='<h3 class=\"s-post-summary--content-ti...'>,\n",
       " <Selector query='//div[@class=\"s-post-summary--content\"]/h3' data='<h3 class=\"s-post-summary--content-ti...'>,\n",
       " <Selector query='//div[@class=\"s-post-summary--content\"]/h3' data='<h3 class=\"s-post-summary--content-ti...'>,\n",
       " <Selector query='//div[@class=\"s-post-summary--content\"]/h3' data='<h3 class=\"s-post-summary--content-ti...'>,\n",
       " <Selector query='//div[@class=\"s-post-summary--content\"]/h3' data='<h3 class=\"s-post-summary--content-ti...'>,\n",
       " <Selector query='//div[@class=\"s-post-summary--content\"]/h3' data='<h3 class=\"s-post-summary--content-ti...'>,\n",
       " <Selector query='//div[@class=\"s-post-summary--content\"]/h3' data='<h3 class=\"s-post-summary--content-ti...'>,\n",
       " <Selector query='//div[@class=\"s-post-summary--content\"]/h3' data='<h3 class=\"s-post-summary--content-ti...'>,\n",
       " <Selector query='//div[@class=\"s-post-summary--content\"]/h3' data='<h3 class=\"s-post-summary--content-ti...'>,\n",
       " <Selector query='//div[@class=\"s-post-summary--content\"]/h3' data='<h3 class=\"s-post-summary--content-ti...'>,\n",
       " <Selector query='//div[@class=\"s-post-summary--content\"]/h3' data='<h3 class=\"s-post-summary--content-ti...'>,\n",
       " <Selector query='//div[@class=\"s-post-summary--content\"]/h3' data='<h3 class=\"s-post-summary--content-ti...'>,\n",
       " <Selector query='//div[@class=\"s-post-summary--content\"]/h3' data='<h3 class=\"s-post-summary--content-ti...'>,\n",
       " <Selector query='//div[@class=\"s-post-summary--content\"]/h3' data='<h3 class=\"s-post-summary--content-ti...'>,\n",
       " <Selector query='//div[@class=\"s-post-summary--content\"]/h3' data='<h3 class=\"s-post-summary--content-ti...'>,\n",
       " <Selector query='//div[@class=\"s-post-summary--content\"]/h3' data='<h3 class=\"s-post-summary--content-ti...'>,\n",
       " <Selector query='//div[@class=\"s-post-summary--content\"]/h3' data='<h3 class=\"s-post-summary--content-ti...'>,\n",
       " <Selector query='//div[@class=\"s-post-summary--content\"]/h3' data='<h3 class=\"s-post-summary--content-ti...'>,\n",
       " <Selector query='//div[@class=\"s-post-summary--content\"]/h3' data='<h3 class=\"s-post-summary--content-ti...'>,\n",
       " <Selector query='//div[@class=\"s-post-summary--content\"]/h3' data='<h3 class=\"s-post-summary--content-ti...'>,\n",
       " <Selector query='//div[@class=\"s-post-summary--content\"]/h3' data='<h3 class=\"s-post-summary--content-ti...'>,\n",
       " <Selector query='//div[@class=\"s-post-summary--content\"]/h3' data='<h3 class=\"s-post-summary--content-ti...'>,\n",
       " <Selector query='//div[@class=\"s-post-summary--content\"]/h3' data='<h3 class=\"s-post-summary--content-ti...'>,\n",
       " <Selector query='//div[@class=\"s-post-summary--content\"]/h3' data='<h3 class=\"s-post-summary--content-ti...'>]"
      ]
     },
     "execution_count": 6,
     "metadata": {},
     "output_type": "execute_result"
    }
   ],
   "source": [
    "summaries = selector.xpath('//div[@class=\"s-post-summary--content\"]/h3')\n",
    "summaries"
   ]
  },
  {
   "cell_type": "markdown",
   "metadata": {},
   "source": [
    "we can dig even deeper we can extract the title of the question> "
   ]
  },
  {
   "cell_type": "code",
   "execution_count": 7,
   "metadata": {},
   "outputs": [
    {
     "data": {
      "text/plain": [
       "['make option to suppress output',\n",
       " 'Compiling uwsgi from source for two different versions of python in emperor mode results in an error',\n",
       " 'SpeechRecognizer only listens to the default language of the device in Android',\n",
       " 'How to allow string values in channable?',\n",
       " 'Does Azure Devops have the capability to create a test case automatically from a requirement?',\n",
       " 'Parse a list in yaml into a python set',\n",
       " 'Error message while installing kubeflow manifest',\n",
       " 'failed to get the Python codec of the filesystem encoding',\n",
       " 'Heteroskedasticity in data',\n",
       " 'gdb on MacOS Ventura fails with python library not loaded',\n",
       " 'YOLO v8 RESET ALL',\n",
       " \"puppet applly and deferred functions: Error: Unknown function 'mymodule::myupcase'\",\n",
       " 'SCSS Mixin Executes Inside Of Incorrect Selector In Angular Application',\n",
       " 'AWS: DMS: difference between resume and restart',\n",
       " \"In linux command line terminal instead of '#' I see '/ #' . How can I change '/ #' to '#' or back to settings i.e, from /bin/sh to bash?\"]"
      ]
     },
     "execution_count": 7,
     "metadata": {},
     "output_type": "execute_result"
    }
   ],
   "source": [
    "question_title = [x.extract() for x in summaries.xpath('a[@class=\"s-link\"]/text()')][:15]\n",
    "question_title"
   ]
  },
  {
   "cell_type": "code",
   "execution_count": null,
   "metadata": {},
   "outputs": [],
   "source": []
  }
 ],
 "metadata": {
  "kernelspec": {
   "display_name": "env",
   "language": "python",
   "name": "python3"
  },
  "language_info": {
   "codemirror_mode": {
    "name": "ipython",
    "version": 3
   },
   "file_extension": ".py",
   "mimetype": "text/x-python",
   "name": "python",
   "nbconvert_exporter": "python",
   "pygments_lexer": "ipython3",
   "version": "3.11.4"
  },
  "orig_nbformat": 4
 },
 "nbformat": 4,
 "nbformat_minor": 2
}
