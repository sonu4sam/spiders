{
 "cells": [
  {
   "cell_type": "code",
   "execution_count": 6,
   "metadata": {},
   "outputs": [
    {
     "name": "stdout",
     "output_type": "stream",
     "text": [
      "<head>\n",
      "<meta charset=\"utf-8\"/>\n",
      "<title>Your Title Here</title>\n",
      "<meta content=\"This is a description of your website.\" name=\"description\"/>\n",
      "<meta content=\"HTML, CSS, JavaScript\" name=\"keywords\"/>\n",
      "<meta content=\"Your Name\" name=\"author\"/>\n",
      "<link href=\"style.css\" rel=\"stylesheet\"/>\n",
      "</head>\n"
     ]
    }
   ],
   "source": [
    "from bs4 import BeautifulSoup\n",
    "with open('example.html')as inFile:\n",
    "    soup = BeautifulSoup(inFile, 'lxml')\n",
    "    print(soup.head)"
   ]
  },
  {
   "cell_type": "code",
   "execution_count": 9,
   "metadata": {},
   "outputs": [
    {
     "name": "stdout",
     "output_type": "stream",
     "text": [
      "<meta content=\"This is a description of your website.\" name=\"description\"/>\n"
     ]
    }
   ],
   "source": [
    "print(soup.find('meta', {'name': 'description'}))"
   ]
  },
  {
   "cell_type": "code",
   "execution_count": 34,
   "metadata": {},
   "outputs": [
    {
     "name": "stdout",
     "output_type": "stream",
     "text": [
      "\n",
      "\n",
      "<h2>Document and Website Structure</h2>\n",
      "\n",
      "\n",
      "<p>HTML allows you to mark up sections of content based on their meaning and structure. In addition to\n",
      "                defining individual parts of your page (such as \"a paragraph\" or \"an image\"), HTML also boasts a number\n",
      "                of block level elements used to define areas of your website (such as \"the header\", \"the navigation\n",
      "                menu\", \"the main content column\").</p>\n",
      "\n",
      "\n",
      "<p>Take some time to plan a basic website structure, and write the HTML to represent this structure. Basic\n",
      "                sections of a document include the header, navigation, main content, and footer.</p>\n",
      "\n",
      "\n",
      "<p>Note: The appearance of the page shown here - including the layout, colors, and fonts - is achieved by\n",
      "                applying CSS to the HTML. Once you have an understanding of the basics of HTML, try diving into our CSS\n",
      "                first steps module to start learning how to style your site.</p>\n",
      "\n",
      "\n"
     ]
    }
   ],
   "source": [
    "sections = soup.main.find_all('section')[1]\n",
    "for paragraph in sections:\n",
    "    print(paragraph)"
   ]
  },
  {
   "cell_type": "code",
   "execution_count": 32,
   "metadata": {},
   "outputs": [
    {
     "name": "stdout",
     "output_type": "stream",
     "text": [
      "Home\n",
      "About\n",
      "Contact\n",
      "Creating static web pages\n",
      "Creating email templates\n",
      "Creating web applications\n"
     ]
    }
   ],
   "source": [
    "all_list_objects = soup.find_all('li')\n",
    "for list_items in all_list_objects:\n",
    "    print(list_items.text)"
   ]
  },
  {
   "cell_type": "code",
   "execution_count": null,
   "metadata": {},
   "outputs": [],
   "source": []
  }
 ],
 "metadata": {
  "kernelspec": {
   "display_name": "Python 3",
   "language": "python",
   "name": "python3"
  },
  "language_info": {
   "codemirror_mode": {
    "name": "ipython",
    "version": 3
   },
   "file_extension": ".py",
   "mimetype": "text/x-python",
   "name": "python",
   "nbconvert_exporter": "python",
   "pygments_lexer": "ipython3",
   "version": "3.11.4"
  },
  "orig_nbformat": 4
 },
 "nbformat": 4,
 "nbformat_minor": 2
}
